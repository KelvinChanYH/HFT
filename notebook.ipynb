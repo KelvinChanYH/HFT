{
 "cells": [
  {
   "cell_type": "markdown",
   "metadata": {},
   "source": [
    "## Impulse Control Algorithm for HFT Market Making"
   ]
  },
  {
   "cell_type": "markdown",
   "metadata": {},
   "source": [
    "For my homie Pontus <3\n",
    "\n",
    "### Algorithmic design\n",
    "The algorithm seeks to optimize the bid ask spread + hedging decisions for each time $t<T$ such that the net Profit and Loss of trading the spread is maximized at the end of the trading session time $T$. We also want to control the algorithm for excessive risk taking during the trading session. Thus, we impose two penalties: (1) running inventory penalty for trading too large exposures during the trading session, and (2) terminal inventory penalty i.e. holding non-zero inventory at the end of the trading day.  Mathematically, the maximization of stochastic system subject to the penalties is equivalent to maximizing the following:\n",
    "\n",
    "\\begin{align}\n",
    "    V(t, X_t, q_T, S_t) = \\underset{\\delta^b, \\delta^a}{max} \\ \\mathbb{E} \\left( X_T + q_T(S_T - \\alpha q_T) + \\phi\\int_{t}^{T}q_s^2 ds - \\sum_{\\tau < T}\\xi_{\\tau}\\right)\n",
    "\\end{align}\n",
    "\n",
    "where\n",
    "\n",
    "- $X_t$ is the market maker's cash at time $t$\n",
    "- $q_t$ is the market maker's inventory at time $t$\n",
    "- $S_t$ is the mid-price of the asset at time $t$\n",
    "- $\\xi_{\\tau}$ is average cost of crossing one contract at (stopping) time $\\tau$\n",
    "\n",
    "### Solving the control problem (HJB-QVI)\n",
    "The problem above may be solved as a HJB-QVI problem where we decide between (1) market making, (2) sending market order to buy one contract or (3) sending market order to sell one contract. Applying standard Dynamic Programming Principle to $V(t, X_t, q_T, S_t)$ yields:\n",
    "\n",
    "\\begin{align}\n",
    "   max \\left( \\frac{\\partial V}{\\partial t} + \\underset{\\delta^b, \\delta^a}{max} \\left[ \\mathcal{L}V -\\phi q_t^2 \\right] ; \\mathcal{S}V-V;\\mathcal{B}V-V\\right)\n",
    "\\end{align}\n",
    "\n"
   ]
  },
  {
   "cell_type": "markdown",
   "metadata": {},
   "source": []
  }
 ],
 "metadata": {
  "kernelspec": {
   "display_name": "Python 3",
   "language": "python",
   "name": "python3"
  },
  "language_info": {
   "codemirror_mode": {
    "name": "ipython",
    "version": 3
   },
   "file_extension": ".py",
   "mimetype": "text/x-python",
   "name": "python",
   "nbconvert_exporter": "python",
   "pygments_lexer": "ipython3",
   "version": "3.7.7"
  }
 },
 "nbformat": 4,
 "nbformat_minor": 4
}
